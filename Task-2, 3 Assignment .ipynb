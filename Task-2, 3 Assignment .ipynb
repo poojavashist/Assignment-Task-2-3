{
 "cells": [
  {
   "cell_type": "raw",
   "metadata": {},
   "source": [
    "2. Problem Statement\n",
    "Task 1:\n",
    "1.\n",
    "Write a function to compute 5/0 and use try/except to catch the exceptions.\n"
   ]
  },
  {
   "cell_type": "code",
   "execution_count": 1,
   "metadata": {},
   "outputs": [
    {
     "name": "stdout",
     "output_type": "stream",
     "text": [
      "An interger/number can't be divisible by Zero\n",
      "An execption has been occured as,  division by zero  action has been attempted\n"
     ]
    }
   ],
   "source": [
    "\n",
    "def DivideByZero(x,y):\n",
    "    try:\n",
    "        x/y\n",
    "    except ZeroDivisionError as e:\n",
    "        print(\"An interger/number can't be divisible by Zero\")\n",
    "        print(\"An execption has been occured as, \",e, \" action has been attempted\")\n",
    "\n",
    "# apply values on variable x & y\n",
    "x,y=5,0\n",
    "\n",
    "#Function Execute\n",
    "DivideByZero(x,y)"
   ]
  },
  {
   "cell_type": "raw",
   "metadata": {},
   "source": [
    "2.\n",
    "Implement a Python program to generate all sentences where subject is in [\"Americans\",\n",
    "\"Indians\"] and verb is in [\"Play\", \"watch\"] and the object is in [\"Baseball\",\"cricket\"].\n",
    "Hint: Subject,Verb and Object should be declared in the program as shown below.\n",
    "subjects=[\"Americans \",\"Indians\"]\n",
    "verbs=[\"play\",\"watch\"]\n",
    "objects=[\"Baseball\",\"Cricket\"]\n",
    "Output should come as below:\n",
    "Americans play Baseball.\n",
    "Americans play Cricket.\n",
    "Americans watch Baseball.\n",
    "Americans watch Cricket.\n",
    "Indians play Baseball.\n",
    "Indians play Cricket.\n",
    "Indians watch Baseball.\n",
    "Indians watch Cricket."
   ]
  },
  {
   "cell_type": "code",
   "execution_count": 2,
   "metadata": {},
   "outputs": [
    {
     "name": "stdout",
     "output_type": "stream",
     "text": [
      "Output:\n",
      "Americans play Baseball.\n",
      "Americans play Cricket.\n",
      "Americans watch Baseball.\n",
      "Americans watch Cricket.\n",
      "Indians play Baseball.\n",
      "Indians play Cricket.\n",
      "Indians watch Baseball.\n",
      "Indians watch Cricket.\n"
     ]
    }
   ],
   "source": [
    "\n",
    "subject=[\"Americans\",\"Indians\"]\n",
    "verb=[\"play\",\"watch\"]\n",
    "objects=[\"Baseball\",\"Cricket\"]\n",
    "# List Comprehension  #for Loop for Iteration\n",
    "Syntax = [(Sub+' '+vrb+' '+Objct+\".\") for Sub in subject for vrb in verb for Objct in objects]\n",
    "print(\"Output:\")\n",
    "for syn in Syntax:    \n",
    "    print(syn)"
   ]
  },
  {
   "cell_type": "raw",
   "metadata": {},
   "source": [
    "Task 2:\n",
    "1.\n",
    "Write a function so that the columns of the output matrix are powers of the input vector.\n",
    "The order of the powers is determined by the increasing boolean argument. Specifically, when\n",
    "increasing is False, the i-th output column is the input vector raised element-wise to the power\n",
    "of N - i - 1."
   ]
  },
  {
   "cell_type": "code",
   "execution_count": 3,
   "metadata": {},
   "outputs": [
    {
     "name": "stdout",
     "output_type": "stream",
     "text": [
      "Input vector \n",
      " [ 5  7  9 11] \n",
      "\n",
      "Output Matrix , when boolean argument is True: \n",
      " [[    1     5    25   125   625]\n",
      " [    1     7    49   343  2401]\n",
      " [    1     9    81   729  6561]\n",
      " [    1    11   121  1331 14641]] \n",
      "\n",
      "Output Matrix , when boolean argument is False: \n",
      " [[  625   125    25     5     1]\n",
      " [ 2401   343    49     7     1]\n",
      " [ 6561   729    81     9     1]\n",
      " [14641  1331   121    11     1]]\n"
     ]
    }
   ],
   "source": [
    "\n",
    "import numpy as num_py\n",
    "def matrix_Vandermonde(input_vector,n,bool_arg):\n",
    "    output_matrix=num_py.vander(x=input_vector,N=n,increasing=bool_arg)\n",
    "    return output_matrix\n",
    "input_vector = num_py.arange(5,13,2)   \n",
    "n = 5       \n",
    "bool_arg_T = True                     \n",
    "bool_arg_F = False                    \n",
    "\n",
    "out_matrix_True=matrix_Vandermonde(input_vector,n,bool_arg_T)\n",
    "\n",
    "out_matrix_False=matrix_Vandermonde(input_vector,n,bool_arg_F)\n",
    "\n",
    "print(\"Input vector \\n\",input_vector,\"\\n\")\n",
    "print(\"Output Matrix , when boolean argument is True: \\n\",out_matrix_True,\"\\n\")\n",
    "print(\"Output Matrix , when boolean argument is False: \\n\",out_matrix_False)"
   ]
  },
  {
   "cell_type": "code",
   "execution_count": null,
   "metadata": {},
   "outputs": [],
   "source": []
  }
 ],
 "metadata": {
  "kernelspec": {
   "display_name": "Python 3",
   "language": "python",
   "name": "python3"
  },
  "language_info": {
   "codemirror_mode": {
    "name": "ipython",
    "version": 3
   },
   "file_extension": ".py",
   "mimetype": "text/x-python",
   "name": "python",
   "nbconvert_exporter": "python",
   "pygments_lexer": "ipython3",
   "version": "3.8.3"
  }
 },
 "nbformat": 4,
 "nbformat_minor": 4
}
